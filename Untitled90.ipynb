{
  "nbformat": 4,
  "nbformat_minor": 0,
  "metadata": {
    "colab": {
      "provenance": [],
      "authorship_tag": "ABX9TyM1nzPJOP2plOFWJH0OqF2Q",
      "include_colab_link": true
    },
    "kernelspec": {
      "name": "python3",
      "display_name": "Python 3"
    },
    "language_info": {
      "name": "python"
    }
  },
  "cells": [
    {
      "cell_type": "markdown",
      "metadata": {
        "id": "view-in-github",
        "colab_type": "text"
      },
      "source": [
        "<a href=\"https://colab.research.google.com/github/RitaDCassia/CNN/blob/main/Untitled90.ipynb\" target=\"_parent\"><img src=\"https://colab.research.google.com/assets/colab-badge.svg\" alt=\"Open In Colab\"/></a>"
      ]
    },
    {
      "cell_type": "code",
      "execution_count": 1,
      "metadata": {
        "id": "a-GizaYUUP0Y"
      },
      "outputs": [],
      "source": [
        "def criar_quadro_medalhas():\n",
        "    \"\"\"\n",
        "    Função para criar e ordenar o quadro de medalhas das Olimpíadas de Natal.\n",
        "    Complexidade de Tempo: O(M log M), onde M é o número de modalidades\n",
        "    Complexidade de Espaço: O(N), onde N é o número de países\n",
        "    \"\"\"\n",
        "    try:\n",
        "        # Dicionário para armazenar as medalhas de cada país\n",
        "        medalhas = {}\n",
        "\n",
        "        # Leitura das modalidades até EOF\n",
        "        try:\n",
        "            while True:\n",
        "                # Leitura de cada modalidade\n",
        "                modalidade = input().strip()\n",
        "                ouro = input().strip()\n",
        "                prata = input().strip()\n",
        "                bronze = input().strip()\n",
        "\n",
        "                # Atualização do quadro de medalhas\n",
        "                medalhas[ouro] = medalhas.get(ouro, [0, 0, 0])\n",
        "                medalhas[ouro][0] += 1\n",
        "\n",
        "                medalhas[prata] = medalhas.get(prata, [0, 0, 0])\n",
        "                medalhas[prata][1] += 1\n",
        "\n",
        "                medalhas[bronze] = medalhas.get(bronze, [0, 0, 0])\n",
        "                medalhas[bronze][2] += 1\n",
        "\n",
        "        except EOFError:\n",
        "            pass\n",
        "\n",
        "        # Conversão para lista e ordenação\n",
        "        paises = []\n",
        "        for pais, (ouro, prata, bronze) in medalhas.items():\n",
        "            paises.append((-ouro, -prata, -bronze, pais))\n",
        "\n",
        "        paises.sort()\n",
        "\n",
        "        # Formatação da saída\n",
        "        resultado = [\"Quadro de Medalhas\"]\n",
        "        for ouro, prata, bronze, pais in paises:\n",
        "            resultado.append(f\"{pais} {-ouro} {-prata} {-bronze}\")\n",
        "\n",
        "        return \"\\n\".join(resultado)\n",
        "\n",
        "    except Exception as e:\n",
        "        return f\"Erro inesperado: {e}\""
      ]
    },
    {
      "cell_type": "code",
      "source": [
        "# Execução do programa\n",
        "if __name__ == \"__main__\":\n",
        "    print(criar_quadro_medalhas())\n",
        ""
      ],
      "metadata": {
        "colab": {
          "base_uri": "https://localhost:8080/"
        },
        "id": "cSMmsd5lUT8h",
        "outputId": "b0dd33bf-1619-44a5-d0ec-d82dd8294409"
      },
      "execution_count": 2,
      "outputs": [
        {
          "output_type": "stream",
          "name": "stdout",
          "text": [
            "Arremesso de duende\n",
            "Finlandia\n",
            "Noruega\n",
            "Sri Lanca\n",
            "Levantamento de Saco de Brinquedos\n",
            "Russia\n",
            "Africa do Sul\n",
            "Estonia\n",
            "Escalada de Pinheiro\n",
            "Estados Unidos\n",
            "Canada\n",
            "Sri Lanca\n",
            "Hipismo com Renas\n",
            "Finlandia\n",
            "Estados Unidos\n",
            "Finlandia\n",
            "Mergulho em Buraco no Gelo\n",
            "Islandia\n",
            "Estonia\n",
            "Russia\n",
            "\n",
            "\n",
            "\u0004\n",
            "Quadro de Medalhas\n",
            "Finlandia 2 0 1\n",
            "Estados Unidos 1 1 0\n",
            "Russia 1 0 1\n",
            "Islandia 1 0 0\n",
            "Estonia 0 1 1\n",
            "Africa do Sul 0 1 0\n",
            "Canada 0 1 0\n",
            "Noruega 0 1 0\n",
            "Sri Lanca 0 0 2\n"
          ]
        }
      ]
    }
  ]
}