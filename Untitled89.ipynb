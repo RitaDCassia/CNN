{
  "nbformat": 4,
  "nbformat_minor": 0,
  "metadata": {
    "colab": {
      "provenance": [],
      "authorship_tag": "ABX9TyNCAQFHKcC8KS+RfI3Hxnaj",
      "include_colab_link": true
    },
    "kernelspec": {
      "name": "python3",
      "display_name": "Python 3"
    },
    "language_info": {
      "name": "python"
    }
  },
  "cells": [
    {
      "cell_type": "markdown",
      "metadata": {
        "id": "view-in-github",
        "colab_type": "text"
      },
      "source": [
        "<a href=\"https://colab.research.google.com/github/RitaDCassia/CNN/blob/main/Untitled89.ipynb\" target=\"_parent\"><img src=\"https://colab.research.google.com/assets/colab-badge.svg\" alt=\"Open In Colab\"/></a>"
      ]
    },
    {
      "cell_type": "markdown",
      "source": [
        "O código implementa uma solução para ordenar o quadro de medalhas olímpicas através de uma estrutura organizada de processamento de dados. Inicialmente, o programa realiza a leitura do número N de países participantes, seguido pela coleta dos dados de cada país, incluindo seu nome e quantidade de medalhas (ouro, prata e bronze). Para otimizar a ordenação, o programa utiliza uma estrutura de dados baseada em tuplas, onde os valores das medalhas são armazenados como números negativos (-ouro, -prata, -bronze, país), permitindo uma ordenação decrescente natural. O nome do país é posicionado como último elemento da tupla para servir como critério de desempate alfabético. A ordenação é realizada utilizando o método sort() do Python, que implementa o algoritmo Timsort, seguindo uma hierarquia específica de critérios: primeiro pelo maior número de medalhas de ouro, em caso de empate pelo maior número de medalhas de prata, persistindo o empate pelo maior número de medalhas de bronze e, finalmente, em caso de igualdade em todas as medalhas, pela ordem alfabética do nome do país. Por fim, o programa formata a saída combinando o nome de cada país com suas respectivas quantidades de medalhas e une todas as linhas com quebras de linha, apresentando o quadro de medalhas completamente ordenado.\n",
        "\n",
        "\n",
        "\n",
        "```\n",
        "// Complexidade Total:\n",
        "// Tempo: Θ(n log n)\n",
        "// Espaço: Θ(n)\n",
        "\n",
        "Função OrdenarQuadroMedalhas():\n",
        "    Início\n",
        "        Tente:\n",
        "            // Leitura do número de países - Θ(1)\n",
        "            Ler N\n",
        "            \n",
        "            // Validação inicial - Θ(1)\n",
        "            Se não (0 ≤ N ≤ 500) então\n",
        "                Lançar Erro(\"Número de países deve estar entre 0 e 500\")\n",
        "            \n",
        "            // Inicialização da lista - Θ(1)\n",
        "            paises ← []\n",
        "            \n",
        "            // Leitura dos países e medalhas - Θ(n)\n",
        "            Para i de 1 até N faça:\n",
        "                entrada ← Ler linha de entrada\n",
        "                pais ← primeiro elemento de entrada\n",
        "                ouro, prata, bronze ← próximos três elementos convertidos para inteiro\n",
        "                \n",
        "                // Validação das medalhas - Θ(1)\n",
        "                Se não (0 ≤ ouro, prata, bronze ≤ 10000) então\n",
        "                    Lançar Erro(\"Número de medalhas deve estar entre 0 e 10000\")\n",
        "                \n",
        "                // Adiciona país com medalhas negativas para ordenação decrescente\n",
        "                Adicionar (-ouro, -prata, -bronze, pais) à lista paises\n",
        "            Fim Para\n",
        "            \n",
        "            // Ordenação da lista - Θ(n log n)\n",
        "            OrdenarLista(paises)\n",
        "            \n",
        "            // Formatação da saída - Θ(n)\n",
        "            resultado ← []\n",
        "            Para cada (ouro, prata, bronze, pais) em paises faça:\n",
        "                linha ← Formatar(f\"{pais} {-ouro} {-prata} {-bronze}\")\n",
        "                Adicionar linha ao resultado\n",
        "            \n",
        "            // Retorno do resultado - Θ(n)\n",
        "            Retornar resultado unido por quebras de linha\n",
        "            \n",
        "        Em caso de Erro valor:\n",
        "            Retornar \"Erro: \" + mensagem do erro\n",
        "        Em caso de Erro geral:\n",
        "            Retornar \"Erro inesperado: \" + mensagem do erro\n",
        "    Fim\n",
        "Fim Função\n",
        "\n",
        "// Programa Principal\n",
        "Início\n",
        "    Imprimir OrdenarQuadroMedalhas()\n",
        "Fim\n",
        "```\n",
        "\n"
      ],
      "metadata": {
        "id": "dJRDh4t4QlNs"
      }
    },
    {
      "cell_type": "code",
      "execution_count": 18,
      "metadata": {
        "id": "zc7rvNK6NcPa"
      },
      "outputs": [],
      "source": [
        "def ordenar_quadro_medalhas():\n",
        "    \"\"\"\n",
        "    Função para ordenar o quadro de medalhas olímpicas.\n",
        "    Complexidade de Tempo: O(N log N) devido à ordenação\n",
        "    Complexidade de Espaço: O(N) para armazenar a lista de países\n",
        "    \"\"\"\n",
        "    try:\n",
        "        # Leitura do número de países (O(1))\n",
        "        N = int(input().strip())\n",
        "\n",
        "        # Validação do número de países\n",
        "        if not (0 <= N <= 500):\n",
        "            raise ValueError(\"Número de países deve estar entre 0 e 500\")\n",
        "\n",
        "        # Lista para armazenar os países e suas medalhas (O(N))\n",
        "        paises = []\n",
        "\n",
        "        # Leitura dos países e medalhas (O(N))\n",
        "        for _ in range(N):\n",
        "            entrada = input().strip().split()\n",
        "            pais = entrada[0]\n",
        "            ouro, prata, bronze = map(int, entrada[1:])\n",
        "\n",
        "            # Validação das medalhas\n",
        "            if not (0 <= ouro <= 10000 and 0 <= prata <= 10000 and 0 <= bronze <= 10000):\n",
        "                raise ValueError(\"Número de medalhas deve estar entre 0 e 10000\")\n",
        "\n",
        "            paises.append((-ouro, -prata, -bronze, pais))\n",
        "\n",
        "        # Ordenação usando Timsort (O(N log N))\n",
        "        # Os números negativos são usados para ordenar em ordem decrescente\n",
        "        paises.sort()\n",
        "\n",
        "        # Formatação e retorno da saída (O(N))\n",
        "        resultado = []\n",
        "        for ouro, prata, bronze, pais in paises:\n",
        "            resultado.append(f\"Saída: {pais} {-ouro} {-prata} {-bronze}\")\n",
        "\n",
        "        return \"\\n\".join(resultado)\n",
        "\n",
        "    except ValueError as e:\n",
        "        return f\"Erro: {e}\"\n",
        "    except Exception as e:\n",
        "        return f\"Erro inesperado: {e}\""
      ]
    },
    {
      "cell_type": "code",
      "source": [
        "# Execução do programa\n",
        "if __name__ == \"__main__\":\n",
        "    print(ordenar_quadro_medalhas())"
      ],
      "metadata": {
        "colab": {
          "base_uri": "https://localhost:8080/"
        },
        "id": "Zd31YhpTNeBH",
        "outputId": "6d0bdb07-ba50-4c12-8eea-adf0d90ff9ba"
      },
      "execution_count": 19,
      "outputs": [
        {
          "output_type": "stream",
          "name": "stdout",
          "text": [
            "8\n",
            "Belgica 2 2 2\n",
            "Brasil 7 6 6\n",
            "Franca 10 18 14\n",
            "Italia 8 12 8\n",
            "Australia 8 11 10\n",
            "Colombia 3 2 3\n",
            "Suica 3 2 2\n",
            "Tailandia 2 2 2\n",
            "Saída: Franca 10 18 14\n",
            "Saída: Italia 8 12 8\n",
            "Saída: Australia 8 11 10\n",
            "Saída: Brasil 7 6 6\n",
            "Saída: Colombia 3 2 3\n",
            "Saída: Suica 3 2 2\n",
            "Saída: Belgica 2 2 2\n",
            "Saída: Tailandia 2 2 2\n"
          ]
        }
      ]
    }
  ]
}