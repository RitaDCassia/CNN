{
  "nbformat": 4,
  "nbformat_minor": 0,
  "metadata": {
    "colab": {
      "provenance": [],
      "authorship_tag": "ABX9TyNoFitqHq0jH/C+iAj9zqVR",
      "include_colab_link": true
    },
    "kernelspec": {
      "name": "python3",
      "display_name": "Python 3"
    },
    "language_info": {
      "name": "python"
    }
  },
  "cells": [
    {
      "cell_type": "markdown",
      "metadata": {
        "id": "view-in-github",
        "colab_type": "text"
      },
      "source": [
        "<a href=\"https://colab.research.google.com/github/RitaDCassia/CNN/blob/main/sistema_de_classifica%C3%A7%C3%A3o.ipynb\" target=\"_parent\"><img src=\"https://colab.research.google.com/assets/colab-badge.svg\" alt=\"Open In Colab\"/></a>"
      ]
    },
    {
      "cell_type": "markdown",
      "source": [
        "#sistema de classificação para um torneio de futebol.\n",
        "\n",
        "\n",
        "1. Vitória: 3 pontos\n",
        "2. Empate: 1 ponto[texto do link](https://)\n",
        "3. Derrota: 0 pontos\n",
        "\n",
        "###criterios de ordenação\n",
        "\n",
        "1. Maior numero de pontos\n",
        "2. Em caso de epate em pontos, maior numero de Vitórias\n",
        "3. Se ainda houver empate maior numero de gols marcados\n",
        "4. Manter a ordem em que os times apareceram na entrada\n",
        "\n",
        "###formato de entrada:\n",
        "\n",
        "* Linha 1: N (numero de times) M (número de jogos)\n",
        "* Proximas N linhas: nome dos times\n",
        "* proximas M linhas: resultado dos jogos no formato Y TimeA, X TimeB\n",
        "    * x = gols do timeA\n",
        "    * y = gols do timeB\n",
        "\n",
        "###saída esperada:\n",
        "\n",
        "Lista de times ordenados segundos os critérios de ordenação\n",
        "um time por linha, sem linhas em branco em casos de teste\n"
      ],
      "metadata": {
        "id": "YrWBiiUXE1Gl"
      }
    },
    {
      "cell_type": "code",
      "source": [
        "\"\"\"\n",
        "Classe para armazenar informações de cada time\n",
        "\n",
        "Atributos:\n",
        "  nome(str): Nome do time na entrada\n",
        "  indice(int): Posição origial do time na entrada\n",
        "  pontos(int): Total de pontos\n",
        "  vitorias(int): Vitorias\n",
        "  gols(int): Gols marcados\n",
        "\"\"\"\n",
        "class Time:\n",
        "  def __init__(self, nome, indice):\n",
        "    self.nome = nome.strip() # remove espaços extras\n",
        "    self.indice = indice\n",
        "    self.pontos = 0\n",
        "    self.vitorias = 0\n",
        "    self.gols = 0\n"
      ],
      "metadata": {
        "id": "_8nJWdObBRxS"
      },
      "execution_count": 25,
      "outputs": []
    },
    {
      "cell_type": "code",
      "source": [
        "\"\"\"\n",
        "Processa o resultado de um jogo e atualiza os pontos dos times\n",
        "\n",
        "Args:\n",
        "  times (dict): Dicionário com os times e suas informações\n",
        "  time_a (str): Nome do primeiro time\n",
        "  gols_a (int): Gols do primeiro time\n",
        "  time_b (str): Nome do segundo time\n",
        "  gols_b (int): Gols do segundo time\n",
        "\"\"\"\n",
        "def processar_jogo(times, time_a, gols_a, time_b, gols_b):\n",
        "    # Tratamento dos nomes dos times\n",
        "    time_a = time_a.strip()\n",
        "    time_b = time_b.strip()\n",
        "\n",
        "    # Atualiza o total de gols de cada time\n",
        "    times[time_a].gols += gols_a\n",
        "    times[time_b].gols += gols_b\n",
        "\n",
        "    # Determina o resultado do jogo e atribui os pontos\n",
        "    if gols_a > gols_b:  # Time A venceu\n",
        "        times[time_a].pontos += 3\n",
        "        times[time_a].vitorias += 1\n",
        "    elif gols_b > gols_a:  # Time B venceu\n",
        "        times[time_b].pontos += 3\n",
        "        times[time_b].vitorias += 1\n",
        "    else:  # Empate\n",
        "        times[time_a].pontos += 1\n",
        "        times[time_b].pontos += 1"
      ],
      "metadata": {
        "id": "lmAqicXj5n51"
      },
      "execution_count": 26,
      "outputs": []
    },
    {
      "cell_type": "code",
      "source": [
        "\"\"\"\n",
        "Resolve um caso de teste completo e imprime o resultado\n",
        "\n",
        "Returns:\n",
        "  None\n",
        "\n",
        "Lê a entrada, processa os jogos e imprime o resultado ordenado\n",
        "\"\"\"\n",
        "def resolver_caso():\n",
        "    print(\"\\n=== ENTRADA DE DADOS ===\")\n",
        "    print(\"Digite o número de times e jogos (N M):\")\n",
        "    n, m = map(int, input().split())\n",
        "\n",
        "    # Cria um dicionário para armazenar os times\n",
        "    print(f\"\\nDigite os nomes dos {n} times:\")\n",
        "    times = {}\n",
        "    for i in range(n):\n",
        "        print(f\"Time {i+1}:\", end=\" \")\n",
        "        nome = input()\n",
        "        times[nome] = Time(nome, i)\n",
        "\n",
        "    # processa cada jogo\n",
        "    print(f\"\\nDigite os {m} resultados dos jogos (gols_A timeA gols_B timeB):\")\n",
        "    for j in range(m):\n",
        "        print(f\"Jogo {j+1}:\", end=\" \")\n",
        "        gols_a, time_a, gols_b, time_b = input().split()\n",
        "        processar_jogo(times, time_a, int(gols_a), time_b, int(gols_b))\n",
        "\n",
        "    # ordena os times pelos critérios especificados\n",
        "    times_ordenados = sorted(\n",
        "        times.values(),\n",
        "        key=lambda time: (\n",
        "            -time.pontos,    # 1 - mais pontos\n",
        "            -time.vitorias,  # 2 - mais vitórias\n",
        "            -time.gols,      # 3 - mais gols\n",
        "            time.indice      # 4 - ordem original de entrada\n",
        "        )\n",
        "    )\n",
        "\n",
        "    # imprime o resultado\n",
        "    print(\"\\n=== CLASSIFICAÇÃO FINAL ===\")\n",
        "    print(\"Pos. | Time      | Pts | Vit | Gols\")\n",
        "    print(\"-\" * 35)\n",
        "    for pos, time in enumerate(times_ordenados, 1):\n",
        "        print(f\"{pos:3}  | {time.nome:<9} | {time.pontos:3} | {time.vitorias:3} | {time.gols:3}\")\n",
        "    print(\"-\" * 35)"
      ],
      "metadata": {
        "id": "5aRcX8Fz63-u"
      },
      "execution_count": 32,
      "outputs": []
    },
    {
      "cell_type": "code",
      "source": [
        "def main():\n",
        "  # le o numero de casos de teste\n",
        "  T = int(input())\n",
        "\n",
        "  # processa cada caso de teste\n",
        "  for _ in range(T):\n",
        "    # resolve caso\n",
        "    resolver_caso()\n",
        "# verifica se o programa está 2sasendo executado diretamente\n",
        "if __name__ == \"__main__\":\n",
        "  main()"
      ],
      "metadata": {
        "colab": {
          "base_uri": "https://localhost:8080/"
        },
        "id": "lv9fS2ZL9wUZ",
        "outputId": "de8c41d4-396b-4af9-f16f-0a2083acc99b"
      },
      "execution_count": 33,
      "outputs": [
        {
          "output_type": "stream",
          "name": "stdout",
          "text": [
            "3\n",
            "\n",
            "=== ENTRADA DE DADOS ===\n",
            "Digite o número de times e jogos (N M):\n",
            "2 2 \n",
            "\n",
            "Digite os nomes dos 2 times:\n",
            "Time 1: palmeiras\n",
            "Time 2: santos\n",
            "\n",
            "Digite os 2 resultados dos jogos (gols_A timeA gols_B timeB):\n",
            "Jogo 1: 1 palmeiras 2 santos\n",
            "Jogo 2: 2 palmeiras 0 santos\n",
            "\n",
            "=== CLASSIFICAÇÃO FINAL ===\n",
            "Pos. | Time      | Pts | Vit | Gols\n",
            "-----------------------------------\n",
            "  1  | palmeiras |   3 |   1 |   3\n",
            "  2  | santos    |   3 |   1 |   2\n",
            "-----------------------------------\n",
            "\n",
            "=== ENTRADA DE DADOS ===\n",
            "Digite o número de times e jogos (N M):\n",
            "2 2\n",
            "\n",
            "Digite os nomes dos 2 times:\n",
            "Time 1: b\n",
            "Time 2: a\n",
            "\n",
            "Digite os 2 resultados dos jogos (gols_A timeA gols_B timeB):\n",
            "Jogo 1: 1 a 1 b\n",
            "Jogo 2: 1 b 1 a\n",
            "\n",
            "=== CLASSIFICAÇÃO FINAL ===\n",
            "Pos. | Time      | Pts | Vit | Gols\n",
            "-----------------------------------\n",
            "  1  | b         |   2 |   0 |   2\n",
            "  2  | a         |   2 |   0 |   2\n",
            "-----------------------------------\n",
            "\n",
            "=== ENTRADA DE DADOS ===\n",
            "Digite o número de times e jogos (N M):\n",
            "4 7\n",
            "\n",
            "Digite os nomes dos 4 times:\n",
            "Time 1: b\n",
            "Time 2: a\n",
            "Time 3: c\n",
            "Time 4: d\n",
            "\n",
            "Digite os 7 resultados dos jogos (gols_A timeA gols_B timeB):\n",
            "Jogo 1: 2 a 1 b\n",
            "Jogo 2: 1 b 1 a\n",
            "Jogo 3: 2 c 3 a\n",
            "Jogo 4: 4 b 2 d\n",
            "Jogo 5: 0 b 1 c\n",
            "Jogo 6: 1 b 0 c\n",
            "Jogo 7: 7 d 1 b\n",
            "\n",
            "=== CLASSIFICAÇÃO FINAL ===\n",
            "Pos. | Time      | Pts | Vit | Gols\n",
            "-----------------------------------\n",
            "  1  | b         |   7 |   2 |   8\n",
            "  2  | a         |   7 |   2 |   6\n",
            "  3  | d         |   3 |   1 |   9\n",
            "  4  | c         |   3 |   1 |   3\n",
            "-----------------------------------\n"
          ]
        }
      ]
    }
  ]
}