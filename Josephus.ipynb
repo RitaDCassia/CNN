{
  "nbformat": 4,
  "nbformat_minor": 0,
  "metadata": {
    "colab": {
      "provenance": [],
      "authorship_tag": "ABX9TyNyKLvegtoQtiAj/1/S94nF",
      "include_colab_link": true
    },
    "kernelspec": {
      "name": "python3",
      "display_name": "Python 3"
    },
    "language_info": {
      "name": "python"
    }
  },
  "cells": [
    {
      "cell_type": "markdown",
      "metadata": {
        "id": "view-in-github",
        "colab_type": "text"
      },
      "source": [
        "<a href=\"https://colab.research.google.com/github/RitaDCassia/CNN/blob/main/Josephus.ipynb\" target=\"_parent\"><img src=\"https://colab.research.google.com/assets/colab-badge.svg\" alt=\"Open In Colab\"/></a>"
      ]
    },
    {
      "cell_type": "code",
      "source": [
        "import sys\n",
        "# Aumenta o limite de recursão\n",
        "sys.setrecursionlimit(10000)"
      ],
      "metadata": {
        "id": "2K555Tmvfjbt"
      },
      "execution_count": 14,
      "outputs": []
    },
    {
      "cell_type": "code",
      "execution_count": 15,
      "metadata": {
        "id": "dlb4QlECVaC9"
      },
      "outputs": [],
      "source": [
        "\"\"\"\n",
        "Resolve problemas de Josephus recursivamente\n",
        "\n",
        "argumentos:\n",
        "  n: numero de pessoas (1 ≤ n ≤ 10000)\n",
        "  k: numero de saltos (1 ≤ k ≤ 1000)\n",
        "\"\"\"\n",
        "def josephus(n, k):\n",
        "    \"\"\"\n",
        "    Resolve problemas de Josephus recursivamente\n",
        "\n",
        "    argumentos:\n",
        "        n: numero de pessoas (1 ≤ n ≤ 10000)\n",
        "        k: numero de saltos (1 ≤ k ≤ 1000)\n",
        "    \"\"\"\n",
        "    # verifica limites\n",
        "    if not(1 <= n <= 10000):\n",
        "        raise ValueError(\"n deve está entre 1 e 10000\")\n",
        "    if not(1 <= k <= 1000):\n",
        "        raise ValueError(\"k deve estar entre 1 e 1000\")\n",
        "\n",
        "    # caso base\n",
        "    if n == 1:\n",
        "        return 1\n",
        "\n",
        "    # chamada recursiva\n",
        "    return (josephus(n - 1, k) + k - 1) % n + 1"
      ]
    },
    {
      "cell_type": "code",
      "source": [
        "\"\"\"\n",
        "Processa os cados teste recusrsivamente\n",
        "\n",
        "argumentos:\n",
        "  numero_caso: numero do caso atual\n",
        "  total_casos: numero total de casos (1 ≤ NC ≤ 30)\n",
        "\"\"\"\n",
        "def processar_casos(numero_caso, total_casos):\n",
        "    \"\"\"\n",
        "    Processa os casos teste recursivamente\n",
        "\n",
        "    argumentos:\n",
        "        numero_caso: numero do caso atual\n",
        "        total_casos: numero total de casos (1 ≤ NC ≤ 30)\n",
        "    \"\"\"\n",
        "    # verifica limite de casos\n",
        "    if not (1 <= total_casos <= 30):\n",
        "        raise ValueError(\"O numero de casos deve estar entre 1 e 30\")\n",
        "\n",
        "    # caso base: processou todos os casos\n",
        "    if numero_caso > total_casos:\n",
        "        return\n",
        "\n",
        "    # le e valida entrada do caso atual\n",
        "    n, k = map(int, input().split())\n",
        "\n",
        "    # calcula e imprime o resultado\n",
        "    resultado = josephus(n, k)\n",
        "    print(f\"Case {numero_caso}: {resultado}\")\n",
        "\n",
        "    # processa o proximo caso\n",
        "    processar_casos(numero_caso + 1, total_casos)"
      ],
      "metadata": {
        "id": "1OP5bHMzWpmk"
      },
      "execution_count": 16,
      "outputs": []
    },
    {
      "cell_type": "code",
      "source": [
        "def main():\n",
        "    # le e valida numero de casos\n",
        "    nc = int(input())\n",
        "    if not (1 <= nc <= 30):\n",
        "        raise ValueError(\"O numero de casos deve estar entre 1 e 30\")\n",
        "\n",
        "    # inicia processamento recursivo\n",
        "    processar_casos(1, nc)\n",
        "\n",
        "if __name__ == \"__main__\":\n",
        "    main()"
      ],
      "metadata": {
        "colab": {
          "base_uri": "https://localhost:8080/"
        },
        "id": "e2OUm0InX6F3",
        "outputId": "e6bc4a2d-291f-4d35-bcaa-14dfa0933d78"
      },
      "execution_count": 17,
      "outputs": [
        {
          "output_type": "stream",
          "name": "stdout",
          "text": [
            "3\n",
            "5 2\n",
            "Case 1: 3\n",
            "6 3\n",
            "Case 2: 1\n",
            "1234 233\n",
            "Case 3: 25\n"
          ]
        }
      ]
    }
  ]
}