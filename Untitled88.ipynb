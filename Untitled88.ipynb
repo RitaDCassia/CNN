{
  "nbformat": 4,
  "nbformat_minor": 0,
  "metadata": {
    "colab": {
      "provenance": [],
      "authorship_tag": "ABX9TyOYjtqRezRwieCrXxGV4Dyw",
      "include_colab_link": true
    },
    "kernelspec": {
      "name": "python3",
      "display_name": "Python 3"
    },
    "language_info": {
      "name": "python"
    }
  },
  "cells": [
    {
      "cell_type": "markdown",
      "metadata": {
        "id": "view-in-github",
        "colab_type": "text"
      },
      "source": [
        "<a href=\"https://colab.research.google.com/github/RitaDCassia/CNN/blob/main/Untitled88.ipynb\" target=\"_parent\"><img src=\"https://colab.research.google.com/assets/colab-badge.svg\" alt=\"Open In Colab\"/></a>"
      ]
    },
    {
      "cell_type": "markdown",
      "source": [
        "\n",
        "O problema apresenta uma situação onde uma professora precisa identificar um aluno sorteado para receber um bônus. O sorteio é baseado em uma posição K na lista alfabética dos alunos. O programa deve:\n",
        "1. Receber o número total de alunos (N) e a posição sorteada (K)\n",
        "* Ler os nomes dos alunos\n",
        "3. Ordenar alfabeticamente\n",
        "* Encontrar o K-ésimo aluno na lista ordenada\n",
        "\n",
        "Pseudocódigo\n",
        "\n",
        "\n",
        "\n",
        "\n",
        "\n",
        "```\n",
        "// Complexidade Total:\n",
        "// Tempo: Θ(n log n)\n",
        "// Espaço: Θ(n)\n",
        "\n",
        "Função EncontrarAlunoSorteado():\n",
        "        Tente:\n",
        "            // Leitura da entrada - Θ(1)\n",
        "            Ler N, K\n",
        "            \n",
        "            // Validação inicial - Θ(1)\n",
        "            Se não (1 ≤ K ≤ N ≤ 100) então\n",
        "                Lançar Erro(\"N e K devem estar entre 1 e 100\")\n",
        "            \n",
        "            // Inicialização da lista - Θ(1)\n",
        "            alunos ← []\n",
        "            \n",
        "            // Leitura e validação dos nomes\n",
        "            // Tempo: Θ(n) - sempre lê exatamente n nomes\n",
        "            // Espaço: Ω(n) - precisa armazenar pelo menos n nomes\n",
        "            Para i de 1 até N faça:\n",
        "                nome ← Ler entrada                    // Θ(1)\n",
        "                nome ← RemoverEspaços(nome)          // Θ(1)\n",
        "                \n",
        "                // Validações do nome - Θ(1) por nome\n",
        "                Se não (1 ≤ Tamanho(nome) ≤ 20) então\n",
        "                    Lançar Erro(\"Nome deve ter entre 1 e 20 caracteres\")\n",
        "                \n",
        "                Se não (TodosCaracteresMinúsculos(nome)) então\n",
        "                    Lançar Erro(\"Nome deve conter apenas letras minúsculas\")\n",
        "                \n",
        "                Se não (TodosCaracteresSãoLetras(nome)) então\n",
        "                    Lançar Erro(\"Nome deve conter apenas letras\")\n",
        "                \n",
        "                Adicionar nome à lista alunos        // O(1) amortizado\n",
        "            Fim Para\n",
        "            \n",
        "            // Ordenação da lista usando Timsort\n",
        "            // Tempo: Ω(n log n) no pior caso\n",
        "            // Tempo: O(n) no melhor caso (já ordenado)\n",
        "            // Tempo: Θ(n log n) caso médio\n",
        "            OrdenarLista(alunos)\n",
        "            \n",
        "            // Acesso ao elemento - Θ(1)\n",
        "            Retornar alunos[K-1]\n",
        "            \n",
        "        Em caso de Erro valor:\n",
        "            Retornar \"Erro: \" + mensagem do erro     // Θ(1)\n",
        "        Em caso de Erro geral:\n",
        "            Retornar \"Erro inesperado: \" + mensagem do erro  // Θ(1)\n",
        "    Fim\n",
        "Fim Função\n",
        "```\n",
        "\n"
      ],
      "metadata": {
        "id": "RMhtPnEptNf8"
      }
    },
    {
      "cell_type": "code",
      "execution_count": 4,
      "metadata": {
        "id": "WTARntgnZLWv"
      },
      "outputs": [],
      "source": [
        "def encontrar_aluno_sorteado():\n",
        "    \"\"\"\n",
        "    Função para encontrar o aluno sorteado baseado na posição K após ordenação alfabética.\n",
        "    Complexidade de Tempo: O(N log N) devido ao Timsort\n",
        "    Complexidade de Espaço: O(N) para armazenar a lista de alunos\n",
        "    \"\"\"\n",
        "    try:\n",
        "        # Leitura e validação da entrada (O(1))\n",
        "        N, K = map(int, input().strip().split())\n",
        "\n",
        "        # Validação dos valores de entrada\n",
        "        if not (1 <= K <= N <= 100):\n",
        "            raise ValueError(\"N e K devem estar entre 1 e 100\")\n",
        "\n",
        "        # Lista para armazenar os nomes dos alunos (O(N))\n",
        "        alunos = []\n",
        "\n",
        "        # Leitura dos nomes dos alunos (O(N))\n",
        "        for _ in range(N):\n",
        "            nome = input().strip()\n",
        "\n",
        "            # Validação do nome\n",
        "            if not (1 <= len(nome) <= 20):\n",
        "                raise ValueError(\"Nome deve ter entre 1 e 20 caracteres\")\n",
        "            if not nome.islower():\n",
        "                raise ValueError(\"Nome deve conter apenas letras minúsculas\")\n",
        "            if not nome.isalpha():\n",
        "                raise ValueError(\"Nome deve conter apenas letras\")\n",
        "\n",
        "            alunos.append(nome)\n",
        "\n",
        "        # Ordenação dos nomes usando Timsort (O(N log N))\n",
        "        alunos.sort()\n",
        "\n",
        "        # Retorna o K-ésimo aluno (O(1))\n",
        "        aluno_sorteado = alunos[K-1]\n",
        "        return f\"Saída: {aluno_sorteado}\"\n",
        "\n",
        "    except ValueError as e:\n",
        "        return f\"Erro: {e}\"\n",
        "    except Exception as e:\n",
        "        return f\"Erro inesperado: {e}\""
      ]
    },
    {
      "cell_type": "code",
      "source": [
        "# Execução do programa\n",
        "if __name__ == \"__main__\":\n",
        "    print(encontrar_aluno_sorteado())"
      ],
      "metadata": {
        "colab": {
          "base_uri": "https://localhost:8080/"
        },
        "id": "ymfjrN0qr3WG",
        "outputId": "95911b4d-da1c-4915-e4d1-6084292e0445"
      },
      "execution_count": 5,
      "outputs": [
        {
          "output_type": "stream",
          "name": "stdout",
          "text": [
            "5 1\n",
            "maria\n",
            "joao\n",
            "carlos\n",
            "vanessa\n",
            "jose\n",
            "Saída: carlos\n"
          ]
        }
      ]
    }
  ]
}