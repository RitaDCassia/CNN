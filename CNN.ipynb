{
  "nbformat": 4,
  "nbformat_minor": 0,
  "metadata": {
    "colab": {
      "provenance": [],
      "authorship_tag": "ABX9TyPfepika38iPXSV+cI38j5B",
      "include_colab_link": true
    },
    "kernelspec": {
      "name": "python3",
      "display_name": "Python 3"
    },
    "language_info": {
      "name": "python"
    }
  },
  "cells": [
    {
      "cell_type": "markdown",
      "metadata": {
        "id": "view-in-github",
        "colab_type": "text"
      },
      "source": [
        "<a href=\"https://colab.research.google.com/github/RitaDCassia/CNN/blob/main/CNN.ipynb\" target=\"_parent\"><img src=\"https://colab.research.google.com/assets/colab-badge.svg\" alt=\"Open In Colab\"/></a>"
      ]
    },
    {
      "cell_type": "code",
      "execution_count": null,
      "metadata": {
        "colab": {
          "base_uri": "https://localhost:8080/"
        },
        "id": "pkgMxcQ3xMqQ",
        "outputId": "0f523480-f702-40d3-8bb7-6d4d2000d458"
      },
      "outputs": [
        {
          "output_type": "stream",
          "name": "stdout",
          "text": [
            "Found existing installation: tensorflow 2.15.0\n",
            "Uninstalling tensorflow-2.15.0:\n",
            "  Successfully uninstalled tensorflow-2.15.0\n"
          ]
        }
      ],
      "source": [
        "!pip uninstall -y tensorflow"
      ]
    },
    {
      "cell_type": "code",
      "source": [
        "#fazendo a instalação do tensorflow\n",
        "!pip install tensorflow-gpu==2.8.0"
      ],
      "metadata": {
        "colab": {
          "base_uri": "https://localhost:8080/"
        },
        "id": "l-r-gA1Ixckw",
        "outputId": "eb166c50-fc91-4a52-e5a2-6695c103c4f9"
      },
      "execution_count": null,
      "outputs": [
        {
          "output_type": "stream",
          "name": "stdout",
          "text": [
            "Collecting tensorflow-gpu==2.8.0\n",
            "  Downloading tensorflow_gpu-2.8.0-cp310-cp310-manylinux2010_x86_64.whl (497.6 MB)\n",
            "\u001b[2K     \u001b[90m━━━━━━━━━━━━━━━━━━━━━━━━━━━━━━━━━━━━━━━━\u001b[0m \u001b[32m497.6/497.6 MB\u001b[0m \u001b[31m2.1 MB/s\u001b[0m eta \u001b[36m0:00:00\u001b[0m\n",
            "\u001b[?25hRequirement already satisfied: absl-py>=0.4.0 in /usr/local/lib/python3.10/dist-packages (from tensorflow-gpu==2.8.0) (1.4.0)\n",
            "Requirement already satisfied: astunparse>=1.6.0 in /usr/local/lib/python3.10/dist-packages (from tensorflow-gpu==2.8.0) (1.6.3)\n",
            "Requirement already satisfied: flatbuffers>=1.12 in /usr/local/lib/python3.10/dist-packages (from tensorflow-gpu==2.8.0) (23.5.26)\n",
            "Requirement already satisfied: gast>=0.2.1 in /usr/local/lib/python3.10/dist-packages (from tensorflow-gpu==2.8.0) (0.5.4)\n",
            "Requirement already satisfied: google-pasta>=0.1.1 in /usr/local/lib/python3.10/dist-packages (from tensorflow-gpu==2.8.0) (0.2.0)\n",
            "Requirement already satisfied: h5py>=2.9.0 in /usr/local/lib/python3.10/dist-packages (from tensorflow-gpu==2.8.0) (3.9.0)\n",
            "Collecting keras-preprocessing>=1.1.1 (from tensorflow-gpu==2.8.0)\n",
            "  Downloading Keras_Preprocessing-1.1.2-py2.py3-none-any.whl (42 kB)\n",
            "\u001b[2K     \u001b[90m━━━━━━━━━━━━━━━━━━━━━━━━━━━━━━━━━━━━━━━━\u001b[0m \u001b[32m42.6/42.6 kB\u001b[0m \u001b[31m4.2 MB/s\u001b[0m eta \u001b[36m0:00:00\u001b[0m\n",
            "\u001b[?25hRequirement already satisfied: libclang>=9.0.1 in /usr/local/lib/python3.10/dist-packages (from tensorflow-gpu==2.8.0) (16.0.6)\n",
            "Requirement already satisfied: numpy>=1.20 in /usr/local/lib/python3.10/dist-packages (from tensorflow-gpu==2.8.0) (1.23.5)\n",
            "Requirement already satisfied: opt-einsum>=2.3.2 in /usr/local/lib/python3.10/dist-packages (from tensorflow-gpu==2.8.0) (3.3.0)\n",
            "Requirement already satisfied: protobuf>=3.9.2 in /usr/local/lib/python3.10/dist-packages (from tensorflow-gpu==2.8.0) (3.20.3)\n",
            "Requirement already satisfied: setuptools in /usr/local/lib/python3.10/dist-packages (from tensorflow-gpu==2.8.0) (67.7.2)\n",
            "Requirement already satisfied: six>=1.12.0 in /usr/local/lib/python3.10/dist-packages (from tensorflow-gpu==2.8.0) (1.16.0)\n",
            "Requirement already satisfied: termcolor>=1.1.0 in /usr/local/lib/python3.10/dist-packages (from tensorflow-gpu==2.8.0) (2.4.0)\n",
            "Requirement already satisfied: typing-extensions>=3.6.6 in /usr/local/lib/python3.10/dist-packages (from tensorflow-gpu==2.8.0) (4.5.0)\n",
            "Requirement already satisfied: wrapt>=1.11.0 in /usr/local/lib/python3.10/dist-packages (from tensorflow-gpu==2.8.0) (1.14.1)\n",
            "Collecting tensorboard<2.9,>=2.8 (from tensorflow-gpu==2.8.0)\n",
            "  Downloading tensorboard-2.8.0-py3-none-any.whl (5.8 MB)\n",
            "\u001b[2K     \u001b[90m━━━━━━━━━━━━━━━━━━━━━━━━━━━━━━━━━━━━━━━━\u001b[0m \u001b[32m5.8/5.8 MB\u001b[0m \u001b[31m53.1 MB/s\u001b[0m eta \u001b[36m0:00:00\u001b[0m\n",
            "\u001b[?25hCollecting tf-estimator-nightly==2.8.0.dev2021122109 (from tensorflow-gpu==2.8.0)\n",
            "  Downloading tf_estimator_nightly-2.8.0.dev2021122109-py2.py3-none-any.whl (462 kB)\n",
            "\u001b[2K     \u001b[90m━━━━━━━━━━━━━━━━━━━━━━━━━━━━━━━━━━━━━━━━\u001b[0m \u001b[32m462.5/462.5 kB\u001b[0m \u001b[31m24.9 MB/s\u001b[0m eta \u001b[36m0:00:00\u001b[0m\n",
            "\u001b[?25hCollecting keras<2.9,>=2.8.0rc0 (from tensorflow-gpu==2.8.0)\n",
            "  Downloading keras-2.8.0-py2.py3-none-any.whl (1.4 MB)\n",
            "\u001b[2K     \u001b[90m━━━━━━━━━━━━━━━━━━━━━━━━━━━━━━━━━━━━━━━━\u001b[0m \u001b[32m1.4/1.4 MB\u001b[0m \u001b[31m30.8 MB/s\u001b[0m eta \u001b[36m0:00:00\u001b[0m\n",
            "\u001b[?25hRequirement already satisfied: tensorflow-io-gcs-filesystem>=0.23.1 in /usr/local/lib/python3.10/dist-packages (from tensorflow-gpu==2.8.0) (0.34.0)\n",
            "Requirement already satisfied: grpcio<2.0,>=1.24.3 in /usr/local/lib/python3.10/dist-packages (from tensorflow-gpu==2.8.0) (1.60.0)\n",
            "Requirement already satisfied: wheel<1.0,>=0.23.0 in /usr/local/lib/python3.10/dist-packages (from astunparse>=1.6.0->tensorflow-gpu==2.8.0) (0.42.0)\n",
            "Requirement already satisfied: google-auth<3,>=1.6.3 in /usr/local/lib/python3.10/dist-packages (from tensorboard<2.9,>=2.8->tensorflow-gpu==2.8.0) (2.17.3)\n",
            "Collecting google-auth-oauthlib<0.5,>=0.4.1 (from tensorboard<2.9,>=2.8->tensorflow-gpu==2.8.0)\n",
            "  Downloading google_auth_oauthlib-0.4.6-py2.py3-none-any.whl (18 kB)\n",
            "Requirement already satisfied: markdown>=2.6.8 in /usr/local/lib/python3.10/dist-packages (from tensorboard<2.9,>=2.8->tensorflow-gpu==2.8.0) (3.5.1)\n",
            "Requirement already satisfied: requests<3,>=2.21.0 in /usr/local/lib/python3.10/dist-packages (from tensorboard<2.9,>=2.8->tensorflow-gpu==2.8.0) (2.31.0)\n",
            "Collecting tensorboard-data-server<0.7.0,>=0.6.0 (from tensorboard<2.9,>=2.8->tensorflow-gpu==2.8.0)\n",
            "  Downloading tensorboard_data_server-0.6.1-py3-none-manylinux2010_x86_64.whl (4.9 MB)\n",
            "\u001b[2K     \u001b[90m━━━━━━━━━━━━━━━━━━━━━━━━━━━━━━━━━━━━━━━━\u001b[0m \u001b[32m4.9/4.9 MB\u001b[0m \u001b[31m36.4 MB/s\u001b[0m eta \u001b[36m0:00:00\u001b[0m\n",
            "\u001b[?25hCollecting tensorboard-plugin-wit>=1.6.0 (from tensorboard<2.9,>=2.8->tensorflow-gpu==2.8.0)\n",
            "  Downloading tensorboard_plugin_wit-1.8.1-py3-none-any.whl (781 kB)\n",
            "\u001b[2K     \u001b[90m━━━━━━━━━━━━━━━━━━━━━━━━━━━━━━━━━━━━━━━━\u001b[0m \u001b[32m781.3/781.3 kB\u001b[0m \u001b[31m40.7 MB/s\u001b[0m eta \u001b[36m0:00:00\u001b[0m\n",
            "\u001b[?25hRequirement already satisfied: werkzeug>=0.11.15 in /usr/local/lib/python3.10/dist-packages (from tensorboard<2.9,>=2.8->tensorflow-gpu==2.8.0) (3.0.1)\n",
            "Requirement already satisfied: cachetools<6.0,>=2.0.0 in /usr/local/lib/python3.10/dist-packages (from google-auth<3,>=1.6.3->tensorboard<2.9,>=2.8->tensorflow-gpu==2.8.0) (5.3.2)\n",
            "Requirement already satisfied: pyasn1-modules>=0.2.1 in /usr/local/lib/python3.10/dist-packages (from google-auth<3,>=1.6.3->tensorboard<2.9,>=2.8->tensorflow-gpu==2.8.0) (0.3.0)\n",
            "Requirement already satisfied: rsa<5,>=3.1.4 in /usr/local/lib/python3.10/dist-packages (from google-auth<3,>=1.6.3->tensorboard<2.9,>=2.8->tensorflow-gpu==2.8.0) (4.9)\n",
            "Requirement already satisfied: requests-oauthlib>=0.7.0 in /usr/local/lib/python3.10/dist-packages (from google-auth-oauthlib<0.5,>=0.4.1->tensorboard<2.9,>=2.8->tensorflow-gpu==2.8.0) (1.3.1)\n",
            "Requirement already satisfied: charset-normalizer<4,>=2 in /usr/local/lib/python3.10/dist-packages (from requests<3,>=2.21.0->tensorboard<2.9,>=2.8->tensorflow-gpu==2.8.0) (3.3.2)\n",
            "Requirement already satisfied: idna<4,>=2.5 in /usr/local/lib/python3.10/dist-packages (from requests<3,>=2.21.0->tensorboard<2.9,>=2.8->tensorflow-gpu==2.8.0) (3.6)\n",
            "Requirement already satisfied: urllib3<3,>=1.21.1 in /usr/local/lib/python3.10/dist-packages (from requests<3,>=2.21.0->tensorboard<2.9,>=2.8->tensorflow-gpu==2.8.0) (2.0.7)\n",
            "Requirement already satisfied: certifi>=2017.4.17 in /usr/local/lib/python3.10/dist-packages (from requests<3,>=2.21.0->tensorboard<2.9,>=2.8->tensorflow-gpu==2.8.0) (2023.11.17)\n",
            "Requirement already satisfied: MarkupSafe>=2.1.1 in /usr/local/lib/python3.10/dist-packages (from werkzeug>=0.11.15->tensorboard<2.9,>=2.8->tensorflow-gpu==2.8.0) (2.1.3)\n",
            "Requirement already satisfied: pyasn1<0.6.0,>=0.4.6 in /usr/local/lib/python3.10/dist-packages (from pyasn1-modules>=0.2.1->google-auth<3,>=1.6.3->tensorboard<2.9,>=2.8->tensorflow-gpu==2.8.0) (0.5.1)\n",
            "Requirement already satisfied: oauthlib>=3.0.0 in /usr/local/lib/python3.10/dist-packages (from requests-oauthlib>=0.7.0->google-auth-oauthlib<0.5,>=0.4.1->tensorboard<2.9,>=2.8->tensorflow-gpu==2.8.0) (3.2.2)\n",
            "Installing collected packages: tf-estimator-nightly, tensorboard-plugin-wit, keras, tensorboard-data-server, keras-preprocessing, google-auth-oauthlib, tensorboard, tensorflow-gpu\n",
            "  Attempting uninstall: keras\n",
            "    Found existing installation: keras 2.15.0\n",
            "    Uninstalling keras-2.15.0:\n",
            "      Successfully uninstalled keras-2.15.0\n",
            "  Attempting uninstall: tensorboard-data-server\n",
            "    Found existing installation: tensorboard-data-server 0.7.2\n",
            "    Uninstalling tensorboard-data-server-0.7.2:\n",
            "      Successfully uninstalled tensorboard-data-server-0.7.2\n",
            "  Attempting uninstall: google-auth-oauthlib\n",
            "    Found existing installation: google-auth-oauthlib 1.2.0\n",
            "    Uninstalling google-auth-oauthlib-1.2.0:\n",
            "      Successfully uninstalled google-auth-oauthlib-1.2.0\n",
            "  Attempting uninstall: tensorboard\n",
            "    Found existing installation: tensorboard 2.15.1\n",
            "    Uninstalling tensorboard-2.15.1:\n",
            "      Successfully uninstalled tensorboard-2.15.1\n",
            "\u001b[31mERROR: pip's dependency resolver does not currently take into account all the packages that are installed. This behaviour is the source of the following dependency conflicts.\n",
            "pandas-gbq 0.19.2 requires google-auth-oauthlib>=0.7.0, but you have google-auth-oauthlib 0.4.6 which is incompatible.\u001b[0m\u001b[31m\n",
            "\u001b[0mSuccessfully installed google-auth-oauthlib-0.4.6 keras-2.8.0 keras-preprocessing-1.1.2 tensorboard-2.8.0 tensorboard-data-server-0.6.1 tensorboard-plugin-wit-1.8.1 tensorflow-gpu-2.8.0 tf-estimator-nightly-2.8.0.dev2021122109\n"
          ]
        }
      ]
    },
    {
      "cell_type": "code",
      "source": [
        "from ast import increment_lineno\n",
        "# importando bibliotecas nescessárias\n",
        "import tensorflow as tf\n",
        "import matplotlib.pyplot as plt\n",
        "\n",
        "# dataset keras\n",
        "from tensorflow.keras.datasets import cifar10\n",
        "\n",
        "# permite visualização das imagens\n",
        "%matplotlib inline\n",
        "# versao do tf\n",
        "tf.__version__"
      ],
      "metadata": {
        "colab": {
          "base_uri": "https://localhost:8080/",
          "height": 36
        },
        "id": "X4gBpcL_xonf",
        "outputId": "83b35fc3-c5cd-4f33-8267-fe4af736aae8"
      },
      "execution_count": null,
      "outputs": [
        {
          "output_type": "execute_result",
          "data": {
            "text/plain": [
              "'2.8.0'"
            ],
            "application/vnd.google.colaboratory.intrinsic+json": {
              "type": "string"
            }
          },
          "metadata": {},
          "execution_count": 4
        }
      ]
    },
    {
      "cell_type": "markdown",
      "source": [
        "link da base de dados:\n",
        "https://www.cs.toronto.edu/~kriz/cifar.html\n",
        "\n",
        "Vamos fazer a identificação de aviao, automovel etc..\n",
        "Temos 10 classes\n",
        "60.000 imagens para o treinamento de imagens 32x32, ou seja imagens de 1024 pixels para o treinamento, porém vale lembrar que são imagens coloridas, então elas tem canais RGB. sendo assim, temos que multiplicar 1024 por 3 que são os tres canais, por fim teremos 3072 entradas para essa rede neural."
      ],
      "metadata": {
        "id": "eLYYwBm6ycvv"
      }
    },
    {
      "cell_type": "code",
      "source": [
        "#classes que serão previstas\n",
        "class_names = ['airplane', 'automobile', 'bird', 'cat', 'deer', 'dog', 'frog', 'horse', 'ship', 'truck']"
      ],
      "metadata": {
        "id": "mFPFhwtDzG_A"
      },
      "execution_count": null,
      "outputs": []
    },
    {
      "cell_type": "code",
      "source": [
        "# carregamento da base de dados\n",
        "(X_train, y_train), (X_test, y_test) = cifar10.load_data()"
      ],
      "metadata": {
        "colab": {
          "base_uri": "https://localhost:8080/"
        },
        "id": "B8PdaE9BzUse",
        "outputId": "81cc2102-b92b-4e4f-b45f-6edb39ad83de"
      },
      "execution_count": null,
      "outputs": [
        {
          "output_type": "stream",
          "name": "stdout",
          "text": [
            "Downloading data from https://www.cs.toronto.edu/~kriz/cifar-10-python.tar.gz\n",
            "170500096/170498071 [==============================] - 3s 0us/step\n",
            "170508288/170498071 [==============================] - 3s 0us/step\n"
          ]
        }
      ]
    },
    {
      "cell_type": "markdown",
      "source": [
        "\n",
        "\n",
        "\n",
        "\n",
        "**normalização das imagens**"
      ],
      "metadata": {
        "id": "gg_wPKC8zk_Z"
      }
    },
    {
      "cell_type": "code",
      "source": [
        "# mostra três Colchete pq as imagens estão em tres canais rgb\n",
        "X_train[1]"
      ],
      "metadata": {
        "colab": {
          "base_uri": "https://localhost:8080/"
        },
        "id": "MAKw3SwTznTm",
        "outputId": "892b9ef5-8576-4799-fd02-68b581c05d4e"
      },
      "execution_count": null,
      "outputs": [
        {
          "output_type": "execute_result",
          "data": {
            "text/plain": [
              "array([[[154, 177, 187],\n",
              "        [126, 137, 136],\n",
              "        [105, 104,  95],\n",
              "        ...,\n",
              "        [ 91,  95,  71],\n",
              "        [ 87,  90,  71],\n",
              "        [ 79,  81,  70]],\n",
              "\n",
              "       [[140, 160, 169],\n",
              "        [145, 153, 154],\n",
              "        [125, 125, 118],\n",
              "        ...,\n",
              "        [ 96,  99,  78],\n",
              "        [ 77,  80,  62],\n",
              "        [ 71,  73,  61]],\n",
              "\n",
              "       [[140, 155, 164],\n",
              "        [139, 146, 149],\n",
              "        [115, 115, 112],\n",
              "        ...,\n",
              "        [ 79,  82,  64],\n",
              "        [ 68,  70,  55],\n",
              "        [ 67,  69,  55]],\n",
              "\n",
              "       ...,\n",
              "\n",
              "       [[175, 167, 166],\n",
              "        [156, 154, 160],\n",
              "        [154, 160, 170],\n",
              "        ...,\n",
              "        [ 42,  34,  36],\n",
              "        [ 61,  53,  57],\n",
              "        [ 93,  83,  91]],\n",
              "\n",
              "       [[165, 154, 128],\n",
              "        [156, 152, 130],\n",
              "        [159, 161, 142],\n",
              "        ...,\n",
              "        [103,  93,  96],\n",
              "        [123, 114, 120],\n",
              "        [131, 121, 131]],\n",
              "\n",
              "       [[163, 148, 120],\n",
              "        [158, 148, 122],\n",
              "        [163, 156, 133],\n",
              "        ...,\n",
              "        [143, 133, 139],\n",
              "        [143, 134, 142],\n",
              "        [143, 133, 144]]], dtype=uint8)"
            ]
          },
          "metadata": {},
          "execution_count": 7
        }
      ]
    },
    {
      "cell_type": "code",
      "source": [
        "X_train = X_train / 255.0"
      ],
      "metadata": {
        "id": "7E7I1Ujkz9dW"
      },
      "execution_count": null,
      "outputs": []
    },
    {
      "cell_type": "code",
      "source": [
        "# aqui ja temos na escala de 255\n",
        "X_train[1]"
      ],
      "metadata": {
        "colab": {
          "base_uri": "https://localhost:8080/"
        },
        "id": "f7MfrlyK0Cqt",
        "outputId": "808e3d70-c064-49e2-e7d9-d8e5710de67f"
      },
      "execution_count": null,
      "outputs": [
        {
          "output_type": "execute_result",
          "data": {
            "text/plain": [
              "array([[[0.60392157, 0.69411765, 0.73333333],\n",
              "        [0.49411765, 0.5372549 , 0.53333333],\n",
              "        [0.41176471, 0.40784314, 0.37254902],\n",
              "        ...,\n",
              "        [0.35686275, 0.37254902, 0.27843137],\n",
              "        [0.34117647, 0.35294118, 0.27843137],\n",
              "        [0.30980392, 0.31764706, 0.2745098 ]],\n",
              "\n",
              "       [[0.54901961, 0.62745098, 0.6627451 ],\n",
              "        [0.56862745, 0.6       , 0.60392157],\n",
              "        [0.49019608, 0.49019608, 0.4627451 ],\n",
              "        ...,\n",
              "        [0.37647059, 0.38823529, 0.30588235],\n",
              "        [0.30196078, 0.31372549, 0.24313725],\n",
              "        [0.27843137, 0.28627451, 0.23921569]],\n",
              "\n",
              "       [[0.54901961, 0.60784314, 0.64313725],\n",
              "        [0.54509804, 0.57254902, 0.58431373],\n",
              "        [0.45098039, 0.45098039, 0.43921569],\n",
              "        ...,\n",
              "        [0.30980392, 0.32156863, 0.25098039],\n",
              "        [0.26666667, 0.2745098 , 0.21568627],\n",
              "        [0.2627451 , 0.27058824, 0.21568627]],\n",
              "\n",
              "       ...,\n",
              "\n",
              "       [[0.68627451, 0.65490196, 0.65098039],\n",
              "        [0.61176471, 0.60392157, 0.62745098],\n",
              "        [0.60392157, 0.62745098, 0.66666667],\n",
              "        ...,\n",
              "        [0.16470588, 0.13333333, 0.14117647],\n",
              "        [0.23921569, 0.20784314, 0.22352941],\n",
              "        [0.36470588, 0.3254902 , 0.35686275]],\n",
              "\n",
              "       [[0.64705882, 0.60392157, 0.50196078],\n",
              "        [0.61176471, 0.59607843, 0.50980392],\n",
              "        [0.62352941, 0.63137255, 0.55686275],\n",
              "        ...,\n",
              "        [0.40392157, 0.36470588, 0.37647059],\n",
              "        [0.48235294, 0.44705882, 0.47058824],\n",
              "        [0.51372549, 0.4745098 , 0.51372549]],\n",
              "\n",
              "       [[0.63921569, 0.58039216, 0.47058824],\n",
              "        [0.61960784, 0.58039216, 0.47843137],\n",
              "        [0.63921569, 0.61176471, 0.52156863],\n",
              "        ...,\n",
              "        [0.56078431, 0.52156863, 0.54509804],\n",
              "        [0.56078431, 0.5254902 , 0.55686275],\n",
              "        [0.56078431, 0.52156863, 0.56470588]]])"
            ]
          },
          "metadata": {},
          "execution_count": 9
        }
      ]
    },
    {
      "cell_type": "code",
      "source": [
        "X_train.shape #50k imagens de 32x32 e os valores de rgb 3"
      ],
      "metadata": {
        "colab": {
          "base_uri": "https://localhost:8080/"
        },
        "id": "DCKvamoT0HnF",
        "outputId": "8d02f9bc-d9a1-4cee-bb94-51c816ea2ad0"
      },
      "execution_count": null,
      "outputs": [
        {
          "output_type": "execute_result",
          "data": {
            "text/plain": [
              "(50000, 32, 32, 3)"
            ]
          },
          "metadata": {},
          "execution_count": 10
        }
      ]
    },
    {
      "cell_type": "code",
      "source": [
        "# fazendo o mesmo para as imagens de teste\n",
        "X_test = X_test / 255.0"
      ],
      "metadata": {
        "id": "VnF7ge_l0Qtl"
      },
      "execution_count": null,
      "outputs": []
    },
    {
      "cell_type": "code",
      "source": [
        "# visualizando imagem de teste\n",
        "plt.imshow(X_test[10])"
      ],
      "metadata": {
        "colab": {
          "base_uri": "https://localhost:8080/",
          "height": 448
        },
        "id": "bNPnwtSn0Zce",
        "outputId": "0fca6879-f54c-49b2-db8e-b8151b100548"
      },
      "execution_count": null,
      "outputs": [
        {
          "output_type": "execute_result",
          "data": {
            "text/plain": [
              "<matplotlib.image.AxesImage at 0x7980551b8a00>"
            ]
          },
          "metadata": {},
          "execution_count": 12
        },
        {
          "output_type": "display_data",
          "data": {
            "text/plain": [
              "<Figure size 640x480 with 1 Axes>"
            ],
            "image/png": "[encoded data removed]"
          },
          "metadata": {}
        }
      ]
    },
    {
      "cell_type": "markdown",
      "source": [
        "Construindo a rede neural convolucional"
      ],
      "metadata": {
        "id": "j_tUTXFR1Pr5"
      }
    },
    {
      "cell_type": "code",
      "source": [
        "# definindo um modelo\n",
        "model = tf.keras.models.Sequential()"
      ],
      "metadata": {
        "id": "uZoR6XrZ0oms"
      },
      "execution_count": null,
      "outputs": []
    },
    {
      "cell_type": "markdown",
      "source": [
        "**Adicionando primeira camada de convolução**\n",
        "\n",
        "Hyper-parâmetros:\n",
        "*   filters=32 : filtros\n",
        "*   kernel_size=3 : tamanho do kernel 3 (tamanho da matriz 3x3)\n",
        "*   padding=\"same\" : preenchimento\n",
        "*   activation=\"relu\" : função de ativação\n",
        "*   input_shape=[32, 32, 3] = camadas de entrada"
      ],
      "metadata": {
        "id": "Bub0zJwU2OK0"
      }
    },
    {
      "cell_type": "code",
      "source": [
        "model.add(tf.keras.layers.Conv2D(filters=32, kernel_size=3, padding=\"same\", activation=\"relu\", input_shape=[32, 32, 3]))"
      ],
      "metadata": {
        "id": "eGz4NR0214TE"
      },
      "execution_count": null,
      "outputs": []
    },
    {
      "cell_type": "markdown",
      "source": [
        "**Adicionando segunda camada de convolução**\n",
        "\n",
        "Hyper-parâmetros da camada de convolução:\n",
        "\n",
        "*   filters = 32 : filtros\n",
        "*   kernel_size=3 : matriz 3x3 tamanho do kernel 3\n",
        "*   padding=\"same\" : preenchimento\n",
        "*   activation=\"relu\" : função de ativação\n",
        "\n",
        "Hyper-parâmetros da camada de mac-pooling:\n",
        "\n",
        "*   pool_size=2 : matriz 2x2\n",
        "*   strides=2 : indica quanto essa matriz anda, anda 2 para calcular o proximo\n",
        "*   padding=\"valid\" : não utiliza a ultima coluna da matriz\n",
        "\n"
      ],
      "metadata": {
        "id": "K4Xllt884Xa0"
      }
    },
    {
      "cell_type": "code",
      "source": [
        "model.add(tf.keras.layers.Conv2D(filters=32, kernel_size=3, padding=\"same\", activation=\"relu\"))"
      ],
      "metadata": {
        "id": "gt06jPfF4UNM"
      },
      "execution_count": null,
      "outputs": []
    },
    {
      "cell_type": "code",
      "source": [
        "# ideia de buscar sempre o valor maior\n",
        "model.add(tf.keras.layers.MaxPool2D(pool_size=2, strides=2, padding=\"valid\"))"
      ],
      "metadata": {
        "id": "XZKD_D-q4usL"
      },
      "execution_count": null,
      "outputs": []
    },
    {
      "cell_type": "markdown",
      "source": [
        "**Adicionando terceira camada de convolução**\n",
        "\n",
        "Hyper-parêmetros:\n",
        "* filters=64\n",
        "* kernel_size=3\n",
        "* padding=\"same\"\n",
        "* activation=\"relu\"\n",
        "\n",
        "\n"
      ],
      "metadata": {
        "id": "Pu3TsRlN6N5K"
      }
    },
    {
      "cell_type": "code",
      "source": [
        "model.add(tf.keras.layers.Conv2D(filters=64, kernel_size=3, padding=\"same\", activation=\"relu\"))"
      ],
      "metadata": {
        "id": "ykWw5CJR6ht_"
      },
      "execution_count": null,
      "outputs": []
    },
    {
      "cell_type": "markdown",
      "source": [
        "**Adicionando quarta camada de convolução e camada de max pooling**"
      ],
      "metadata": {
        "id": "660I2dmw8Cr3"
      }
    },
    {
      "cell_type": "code",
      "source": [
        "model.add(tf.keras.layers.Conv2D(filters=64, kernel_size=3, padding=\"same\", activation=\"relu\"))"
      ],
      "metadata": {
        "id": "l8RnXnGN78yF"
      },
      "execution_count": null,
      "outputs": []
    },
    {
      "cell_type": "code",
      "source": [
        "model.add(tf.keras.layers.MaxPool2D(pool_size=2, strides=2, padding=\"valid\"))"
      ],
      "metadata": {
        "id": "8Rp43cZR8fOZ"
      },
      "execution_count": null,
      "outputs": []
    },
    {
      "cell_type": "markdown",
      "source": [
        "**Adicionando camada de flatten**"
      ],
      "metadata": {
        "id": "diDke88o8r44"
      }
    },
    {
      "cell_type": "code",
      "source": [
        "model.add(tf.keras.layers.Flatten())"
      ],
      "metadata": {
        "id": "2z3JgW-n_Unq"
      },
      "execution_count": null,
      "outputs": []
    },
    {
      "cell_type": "markdown",
      "source": [
        "**Adicionando a primeira camada densa (fully-connected)**"
      ],
      "metadata": {
        "id": "L8A0Bpj3_kK6"
      }
    },
    {
      "cell_type": "code",
      "source": [
        "model.add(tf.keras.layers.Dense(units=128, activation=\"relu\"))"
      ],
      "metadata": {
        "id": "zcMW3Z3E_lZx"
      },
      "execution_count": null,
      "outputs": []
    },
    {
      "cell_type": "markdown",
      "source": [
        "**Adicionando camda de saída**"
      ],
      "metadata": {
        "id": "g8KPckaN_3aZ"
      }
    },
    {
      "cell_type": "markdown",
      "source": [
        "**Adicionando a camada de saída**\n",
        "\n",
        "Hyper-parãmetros:\n",
        "* units=10 : neuronios (numero de classes)\n",
        "* activation=\"softmax\" : quando temos mais de duas classes"
      ],
      "metadata": {
        "id": "CanY0jbx_7bR"
      }
    },
    {
      "cell_type": "code",
      "source": [
        "model.add(tf.keras.layers.Dense(units=10, activation=\"softmax\"))"
      ],
      "metadata": {
        "id": "MWcChkp7A1ff"
      },
      "execution_count": null,
      "outputs": []
    },
    {
      "cell_type": "code",
      "source": [
        "model.summary() # estrutura da rede neural"
      ],
      "metadata": {
        "colab": {
          "base_uri": "https://localhost:8080/"
        },
        "id": "qsTpnTU4BKPo",
        "outputId": "2d423cea-7073-4105-f8d1-978052416665"
      },
      "execution_count": null,
      "outputs": [
        {
          "output_type": "stream",
          "name": "stdout",
          "text": [
            "Model: \"sequential\"\n",
            "_________________________________________________________________\n",
            " Layer (type)                Output Shape              Param #   \n",
            "=================================================================\n",
            " conv2d (Conv2D)             (None, 32, 32, 32)        896       \n",
            "                                                                 \n",
            " conv2d_1 (Conv2D)           (None, 32, 32, 32)        9248      \n",
            "                                                                 \n",
            " max_pooling2d (MaxPooling2D  (None, 16, 16, 32)       0         \n",
            " )                                                               \n",
            "                                                                 \n",
            " conv2d_2 (Conv2D)           (None, 16, 16, 64)        18496     \n",
            "                                                                 \n",
            " conv2d_3 (Conv2D)           (None, 16, 16, 64)        36928     \n",
            "                                                                 \n",
            " max_pooling2d_1 (MaxPooling  (None, 8, 8, 64)         0         \n",
            " 2D)                                                             \n",
            "                                                                 \n",
            " flatten (Flatten)           (None, 4096)              0         \n",
            "                                                                 \n",
            " dense (Dense)               (None, 128)               524416    \n",
            "                                                                 \n",
            " dense_1 (Dense)             (None, 10)                1290      \n",
            "                                                                 \n",
            "=================================================================\n",
            "Total params: 591,274\n",
            "Trainable params: 591,274\n",
            "Non-trainable params: 0\n",
            "_________________________________________________________________\n"
          ]
        }
      ]
    },
    {
      "cell_type": "markdown",
      "source": [
        "**Compilando modelo**"
      ],
      "metadata": {
        "id": "qn8yyXSaBCvJ"
      }
    },
    {
      "cell_type": "code",
      "source": [
        "model.compile(loss=\"sparse_categorical_crossentropy\", optimizer=\"Adam\", metrics=\"sparse_categorical_accuracy\")"
      ],
      "metadata": {
        "id": "JNZTb6dSBQ4f"
      },
      "execution_count": null,
      "outputs": []
    },
    {
      "cell_type": "markdown",
      "source": [
        "**Treinamento do modelo**"
      ],
      "metadata": {
        "id": "DHc1PABMCEav"
      }
    },
    {
      "cell_type": "code",
      "source": [
        "model.fit(X_train, y_train, epochs=10)"
      ],
      "metadata": {
        "colab": {
          "base_uri": "https://localhost:8080/"
        },
        "id": "6CuRsq3fCGaQ",
        "outputId": "cc2c7502-bcb0-49c0-c6c7-a1d53d2d8aca"
      },
      "execution_count": null,
      "outputs": [
        {
          "output_type": "stream",
          "name": "stdout",
          "text": [
            "Epoch 1/10\n",
            "1563/1563 [==============================] - 321s 205ms/step - loss: 1.3665 - sparse_categorical_accuracy: 0.5072\n",
            "Epoch 2/10\n",
            "1563/1563 [==============================] - 317s 203ms/step - loss: 0.9164 - sparse_categorical_accuracy: 0.6756\n",
            "Epoch 3/10\n",
            "1563/1563 [==============================] - 321s 205ms/step - loss: 0.7449 - sparse_categorical_accuracy: 0.7390\n",
            "Epoch 4/10\n",
            "1563/1563 [==============================] - 312s 200ms/step - loss: 0.6249 - sparse_categorical_accuracy: 0.7819\n",
            "Epoch 5/10\n",
            "1563/1563 [==============================] - 319s 204ms/step - loss: 0.5280 - sparse_categorical_accuracy: 0.8158\n",
            "Epoch 6/10\n",
            "1563/1563 [==============================] - 314s 201ms/step - loss: 0.4402 - sparse_categorical_accuracy: 0.8452\n",
            "Epoch 7/10\n",
            "1563/1563 [==============================] - 315s 201ms/step - loss: 0.3659 - sparse_categorical_accuracy: 0.8696\n",
            "Epoch 8/10\n",
            "1563/1563 [==============================] - 315s 202ms/step - loss: 0.2928 - sparse_categorical_accuracy: 0.8954\n",
            "Epoch 9/10\n",
            "1563/1563 [==============================] - 312s 200ms/step - loss: 0.2409 - sparse_categorical_accuracy: 0.9149\n",
            "Epoch 10/10\n",
            "1563/1563 [==============================] - 312s 200ms/step - loss: 0.1997 - sparse_categorical_accuracy: 0.9284\n"
          ]
        },
        {
          "output_type": "execute_result",
          "data": {
            "text/plain": [
              "<keras.callbacks.History at 0x797ffb24cc10>"
            ]
          },
          "metadata": {},
          "execution_count": 25
        }
      ]
    },
    {
      "cell_type": "markdown",
      "source": [
        "**Avaliando modelo**"
      ],
      "metadata": {
        "id": "YrDSFlf2CAYv"
      }
    },
    {
      "cell_type": "code",
      "source": [
        "test_loss, test_accuracy = model.evaluate(X_test, y_test)"
      ],
      "metadata": {
        "colab": {
          "base_uri": "https://localhost:8080/"
        },
        "id": "91uLSrOCCWmv",
        "outputId": "6898acb1-f95a-45c0-a2f0-f7aaa92e9444"
      },
      "execution_count": null,
      "outputs": [
        {
          "output_type": "stream",
          "name": "stdout",
          "text": [
            "313/313 [==============================] - 16s 50ms/step - loss: 1.1921 - sparse_categorical_accuracy: 0.7366\n"
          ]
        }
      ]
    },
    {
      "cell_type": "code",
      "source": [
        "print(\"Accuracy: {}\".format(test_accuracy))"
      ],
      "metadata": {
        "colab": {
          "base_uri": "https://localhost:8080/"
        },
        "id": "Z99zLxcICrzQ",
        "outputId": "35d1fecf-5398-4951-ee95-5f21d48289bf"
      },
      "execution_count": null,
      "outputs": [
        {
          "output_type": "stream",
          "name": "stdout",
          "text": [
            "Accuracy: 0.7365999817848206\n"
          ]
        }
      ]
    },
    {
      "cell_type": "code",
      "source": [
        "print(\"Loss: {}\".format(test_loss))"
      ],
      "metadata": {
        "colab": {
          "base_uri": "https://localhost:8080/"
        },
        "id": "WsQmAblrC0df",
        "outputId": "5dfc3b96-649c-4c9a-a09b-dae4e5b02070"
      },
      "execution_count": null,
      "outputs": [
        {
          "output_type": "stream",
          "name": "stdout",
          "text": [
            "Loss: 1.1920543909072876\n"
          ]
        }
      ]
    }
  ]
}